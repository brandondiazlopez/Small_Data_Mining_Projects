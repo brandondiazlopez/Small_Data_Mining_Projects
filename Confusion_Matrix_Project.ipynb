{
  "nbformat": 4,
  "nbformat_minor": 0,
  "metadata": {
    "colab": {
      "provenance": [],
      "include_colab_link": true
    },
    "kernelspec": {
      "name": "python3",
      "display_name": "Python 3"
    },
    "language_info": {
      "name": "python"
    }
  },
  "cells": [
    {
      "cell_type": "markdown",
      "metadata": {
        "id": "view-in-github",
        "colab_type": "text"
      },
      "source": [
        "<a href=\"https://colab.research.google.com/github/brandondiazlopez/Small_Data_Mining_Projects/blob/main/Confusion_Matrix_Project.ipynb\" target=\"_parent\"><img src=\"https://colab.research.google.com/assets/colab-badge.svg\" alt=\"Open In Colab\"/></a>"
      ]
    },
    {
      "cell_type": "code",
      "source": [
        "#import necessary libraries\n",
        "\n",
        "import pandas as pd\n",
        "from pandas import read_csv\n",
        "import sklearn\n",
        "from sklearn.metrics import classification_report\n",
        "from sklearn.metrics import confusion_matrix\n",
        "from sklearn.metrics import accuracy_score\n",
        "from sklearn.metrics import precision_score\n",
        "from sklearn.linear_model import LogisticRegression\n",
        "from sklearn.model_selection import train_test_split\n",
        "from sklearn.datasets import make_classification\n",
        "from sklearn.tree import DecisionTreeClassifier\n",
        "from sklearn.model_selection import KFold\n",
        "from sklearn.model_selection import cross_val_score\n",
        "import numpy as np\n",
        "import statsmodels.api as sm\n",
        "import matplotlib.pyplot as plt\n",
        "import seaborn as sns\n"
      ],
      "metadata": {
        "id": "t666ojnrn6fy"
      },
      "execution_count": 1,
      "outputs": []
    },
    {
      "cell_type": "markdown",
      "source": [
        "This section was importing the proper libraries "
      ],
      "metadata": {
        "id": "6_W4iKwHjLl-"
      }
    },
    {
      "cell_type": "code",
      "source": [
        "# 1 read XLSX file “Microsoft_Results.CSV” \n",
        "\n",
        "filename = 'Microsoft_Results.csv'\n",
        "data = pd.read_csv(filename)\n"
      ],
      "metadata": {
        "id": "_gsJ3HYFn_HG"
      },
      "execution_count": 8,
      "outputs": []
    },
    {
      "cell_type": "code",
      "source": [
        "\n",
        "# Define Y_True and Y_pred\n",
        "\n",
        "y_true = data['TRUE_STATUS']\n",
        "\n",
        "y_pred = data['PRED_Probability'].round()\n",
        "\n",
        "# confusion matrix (HOLY SHIT I think this is the one. For part of it at least.)\n",
        "matrix = confusion_matrix(y_true, y_pred, labels=[1,0])\n",
        "print('Confusion matrix : \\n',matrix)\n",
        "\n",
        "# outcome values order in sklearn\n",
        "tp, fn, fp, tn = confusion_matrix(y_true, y_pred,labels=[1,0]).reshape(-1)\n",
        "print('Outcome values : \\n', tp, fn, fp, tn)\n",
        "\n",
        "print(f'Outcome values : \\n True Positive: {tp}, \\n False Negative {fn}, \\n False Positive: {fp}, \\n True Negative: {tn}')\n",
        "\n",
        "# classification report for precision, recall f1-score and accuracy\n",
        "matrix = classification_report(y_true, y_pred,labels=[1,0])\n",
        "print('Classification report : \\n',matrix)\n",
        "\n",
        "#Specificity Calc\n",
        "\n",
        "specificity = tn/(tn+fp)\n",
        "print('Specificity Score:',specificity)\n",
        "\n",
        "#sensitivity calculation\n",
        "sensitivity = tp/(tp+fn)\n",
        "print('Sensitivity : ', sensitivity )\n",
        "\n"
      ],
      "metadata": {
        "id": "OY0qQT7LqDn7",
        "colab": {
          "base_uri": "https://localhost:8080/"
        },
        "outputId": "bc9a4095-8047-4490-e439-3baf79a7d3d7"
      },
      "execution_count": 3,
      "outputs": [
        {
          "output_type": "stream",
          "name": "stdout",
          "text": [
            "Confusion matrix : \n",
            " [[306004 192997]\n",
            " [170809 330190]]\n",
            "Outcome values : \n",
            " 306004 192997 170809 330190\n",
            "Outcome values : \n",
            " True Positive: 306004, \n",
            " False Negative 192997, \n",
            " False Positive: 170809, \n",
            " True Negative: 330190\n",
            "Classification report : \n",
            "               precision    recall  f1-score   support\n",
            "\n",
            "           1       0.64      0.61      0.63    499001\n",
            "           0       0.63      0.66      0.64    500999\n",
            "\n",
            "    accuracy                           0.64   1000000\n",
            "   macro avg       0.64      0.64      0.64   1000000\n",
            "weighted avg       0.64      0.64      0.64   1000000\n",
            "\n",
            "Specificity Score: 0.6590631917428977\n",
            "Sensitivity :  0.6132332400135471\n"
          ]
        }
      ]
    },
    {
      "cell_type": "markdown",
      "source": [
        "In this section, the accuracy of the model is 0.64, which means that it correctly classified 64% of the instances. While this is not bad, it is not particularly high either. Additionally, the precision, recall, and F1 score for both classes are around 0.63 to 0.64, which indicates that the model's performance is relatively balanced for both classes.\n",
        "\n",
        "The specificity score is 0.659, which is good, indicating that the model correctly identified about 66% of the instances that belong to the negative class. However, the sensitivity score is 0.613, which is not as good, indicating that the model missed identifying about 39% of the instances that belong to the positive class."
      ],
      "metadata": {
        "id": "otW8_8uIlwPD"
      }
    },
    {
      "cell_type": "code",
      "source": [
        "# 3.1 cut-off probability threshold of 0.3\n",
        "\n",
        "\n",
        "threshold = .3\n",
        "\n",
        "threshold1_data = data[data['PRED_Probability'] > threshold]\n",
        "\n",
        "# Define Y_True and Y_pred\n",
        "\n",
        "y_true = threshold1_data['TRUE_STATUS']\n",
        "\n",
        "y_pred = threshold1_data['PRED_Probability'].round()\n",
        "\n",
        "# confusion matrix (HOLY SHIT I think this is the one. For part of it at least.)\n",
        "matrix = confusion_matrix(y_true, y_pred, labels=[1,0])\n",
        "report = classification_report(y_true, y_pred, labels=[1,0])\n",
        "\n",
        "print(f'Confusion Matrix: \\n {matrix}')\n",
        "print(f'\\n Classification Report: \\n {report}')\n",
        "\n",
        "\n",
        "\n",
        "# outcome values order in sklearn\n",
        "tn, fp, fn, tp = confusion_matrix(y_true, y_pred).reshape(-1)\n",
        "# print('Outcome values : \\n', tp, fn, fp, tn)\n",
        "\n",
        "print(f'\\n Outcome values : \\n\\n True Positive: {tp}, \\n False Negative {fn}, \\n False Positive: {fp}, \\n True Negative: {tn}')\n",
        "\n",
        "#Specificity Calc\n",
        "\n",
        "specificity = tn/(tn+fp)\n",
        "print('\\n Specificity Score:',specificity)\n",
        "\n",
        "#sensitivity calculation\n",
        "sensitivity = tp/(tp+fn)\n",
        "print('\\n Sensitivity : ', sensitivity )"
      ],
      "metadata": {
        "id": "smo-HEH51Kcw",
        "colab": {
          "base_uri": "https://localhost:8080/"
        },
        "outputId": "aa30f7d2-3628-4e9e-eb20-b27663020343"
      },
      "execution_count": 4,
      "outputs": [
        {
          "output_type": "stream",
          "name": "stdout",
          "text": [
            "Confusion Matrix: \n",
            " [[306004 172921]\n",
            " [170809 261216]]\n",
            "\n",
            " Classification Report: \n",
            "               precision    recall  f1-score   support\n",
            "\n",
            "           1       0.64      0.64      0.64    478925\n",
            "           0       0.60      0.60      0.60    432025\n",
            "\n",
            "    accuracy                           0.62    910950\n",
            "   macro avg       0.62      0.62      0.62    910950\n",
            "weighted avg       0.62      0.62      0.62    910950\n",
            "\n",
            "\n",
            " Outcome values : \n",
            "\n",
            " True Positive: 306004, \n",
            " False Negative 172921, \n",
            " False Positive: 170809, \n",
            " True Negative: 261216\n",
            "\n",
            " Specificity Score: 0.6046316764076153\n",
            "\n",
            " Sensitivity :  0.6389392911207391\n"
          ]
        }
      ]
    },
    {
      "cell_type": "markdown",
      "source": [
        "In this section we tried to change the cut-off probability to 30%. This didn't chnage much of the initial results."
      ],
      "metadata": {
        "id": "6vVgwt2WxbMK"
      }
    },
    {
      "cell_type": "code",
      "source": [
        "# 3.2 cut-off probability threshold of 0.6\n",
        "\n",
        "\n",
        "threshold = .6\n",
        "\n",
        "threshold2_data = data[data['PRED_Probability'] > threshold]\n",
        "\n",
        "# Define Y_True and Y_pred\n",
        "\n",
        "y_true = threshold2_data['TRUE_STATUS']\n",
        "\n",
        "y_pred = threshold2_data['PRED_Probability'].round()\n",
        "\n",
        "# confusion matrix \n",
        "matrix = confusion_matrix(y_true, y_pred, labels=[1,0])\n",
        "report = classification_report(y_true, y_pred, labels=[1,0])\n",
        "\n",
        "print(f'Confusion Matrix: \\n {matrix}')\n",
        "print(f'\\n Classification Report: \\n {report}')\n",
        "\n",
        "\n",
        "\n",
        "# outcome values order in sklearn\n",
        "tn, fp, fn, tp = confusion_matrix(y_true, y_pred).reshape(-1)\n",
        "# print('Outcome values : \\n', tp, fn, fp, tn)\n",
        "\n",
        "print(f'\\n Outcome values : \\n\\n True Positive: {tp}, \\n False Negative {fn}, \\n False Positive: {fp}, \\n True Negative: {tn}')\n",
        "\n",
        "#Specificity Calc\n",
        "\n",
        "specificity = tn/(tn+fp)\n",
        "print('\\n Specificity Score:',specificity)\n",
        "\n",
        "#sensitivity calculation\n",
        "sensitivity = tp/(tp+fn)\n",
        "print('\\n Sensitivity : ', sensitivity )"
      ],
      "metadata": {
        "id": "LomS2ZQ9T84T",
        "colab": {
          "base_uri": "https://localhost:8080/"
        },
        "outputId": "b462c26f-9893-4e44-8b89-0609c2e677d3"
      },
      "execution_count": 5,
      "outputs": [
        {
          "output_type": "stream",
          "name": "stderr",
          "text": [
            "/usr/local/lib/python3.8/dist-packages/sklearn/metrics/_classification.py:1318: UndefinedMetricWarning: Precision and F-score are ill-defined and being set to 0.0 in labels with no predicted samples. Use `zero_division` parameter to control this behavior.\n",
            "  _warn_prf(average, modifier, msg_start, len(result))\n",
            "/usr/local/lib/python3.8/dist-packages/sklearn/metrics/_classification.py:1318: UndefinedMetricWarning: Precision and F-score are ill-defined and being set to 0.0 in labels with no predicted samples. Use `zero_division` parameter to control this behavior.\n",
            "  _warn_prf(average, modifier, msg_start, len(result))\n",
            "/usr/local/lib/python3.8/dist-packages/sklearn/metrics/_classification.py:1318: UndefinedMetricWarning: Precision and F-score are ill-defined and being set to 0.0 in labels with no predicted samples. Use `zero_division` parameter to control this behavior.\n",
            "  _warn_prf(average, modifier, msg_start, len(result))\n"
          ]
        },
        {
          "output_type": "stream",
          "name": "stdout",
          "text": [
            "Confusion Matrix: \n",
            " [[156745      0]\n",
            " [ 51740      0]]\n",
            "\n",
            " Classification Report: \n",
            "               precision    recall  f1-score   support\n",
            "\n",
            "           1       0.75      1.00      0.86    156745\n",
            "           0       0.00      0.00      0.00     51740\n",
            "\n",
            "    accuracy                           0.75    208485\n",
            "   macro avg       0.38      0.50      0.43    208485\n",
            "weighted avg       0.57      0.75      0.65    208485\n",
            "\n",
            "\n",
            " Outcome values : \n",
            "\n",
            " True Positive: 156745, \n",
            " False Negative 0, \n",
            " False Positive: 51740, \n",
            " True Negative: 0\n",
            "\n",
            " Specificity Score: 0.0\n",
            "\n",
            " Sensitivity :  1.0\n"
          ]
        }
      ]
    },
    {
      "cell_type": "markdown",
      "source": [
        "Trying to change the treshold to 60% resulted in an error with the class 0 data."
      ],
      "metadata": {
        "id": "DlNOGwUlxprt"
      }
    },
    {
      "cell_type": "code",
      "source": [
        "#problem 4 AUC\n",
        "\n",
        "array = data.values\n",
        "X = array[:,2:]\n",
        "Y = array[:,1]\n",
        "\n",
        "test_size = .33\n",
        "\n",
        "seed = 7\n",
        "\n",
        "kfold = KFold(n_splits=10, random_state = seed, shuffle=True)\n",
        "model = LogisticRegression(solver = 'liblinear')\n",
        "scoring = 'roc_auc'\n",
        "results = cross_val_score(model, X, Y, cv = kfold, scoring = scoring)\n",
        "print(\"AUC: %.3f\" % (results.mean()))\n",
        "\n",
        "\n",
        "\n",
        "#pring gini index\n",
        "\n",
        "gini_index = 2 * (results.mean() - .5)\n",
        "print(\"Gini Index: %.3f\" % (gini_index))"
      ],
      "metadata": {
        "id": "iB2gU2obVRrh",
        "colab": {
          "base_uri": "https://localhost:8080/"
        },
        "outputId": "4d5b8de8-2d3b-4399-8185-a53b0b2fe421"
      },
      "execution_count": 6,
      "outputs": [
        {
          "output_type": "stream",
          "name": "stdout",
          "text": [
            "AUC: 0.694\n",
            "Gini Index: 0.388\n"
          ]
        }
      ]
    },
    {
      "cell_type": "markdown",
      "source": [
        "The AUC Score here is considerably low. The Gini Index is around the same accord. Not particulary weak, but not considerably strong either."
      ],
      "metadata": {
        "id": "a8ooAaHkxyND"
      }
    },
    {
      "cell_type": "code",
      "source": [
        "model = LogisticRegression()\n",
        "model.fit(X, Y)\n",
        "\n",
        "y_true = data['TRUE_STATUS']\n",
        "\n",
        "y_pred = data['PRED_Probability'].round()\n",
        "\n",
        "# get probabilities for positive class\n",
        "probs = model.predict_proba(X)[:, 1]\n",
        "cutoffs = np.arange(0, 1.1, 0.1)\n",
        "\n",
        "#Calculate rates for each cutoff\n",
        "tprs = []\n",
        "fprs = []\n",
        "for cutoff in cutoffs:\n",
        "    y_pred = (probs >= cutoff).astype(int)\n",
        "    matrix = confusion_matrix(y_true, y_pred, labels=[1,0])\n",
        "    tp, fn, fp, tn = matrix.ravel()\n",
        "    tpr = tp / (tp + fn)\n",
        "    fpr = fp / (fp + tn)\n",
        "    tprs.append(tpr)\n",
        "    fprs.append(fpr)\n",
        "\n",
        "#Plot curve\n",
        "plt.plot(fprs, tprs, 'b-', label='ROC curve')\n",
        "plt.plot([0, 1], [0, 1], 'k--', label='Classifier')\n",
        "plt.xlim([0, 1])\n",
        "plt.ylim([0, 1])\n",
        "plt.xlabel('1 - Specificity')\n",
        "plt.ylabel('Sensitivity')\n",
        "plt.title('ROC Curve')\n",
        "plt.legend()\n",
        "plt.show()"
      ],
      "metadata": {
        "id": "oQilFVm_JIwH",
        "colab": {
          "base_uri": "https://localhost:8080/",
          "height": 295
        },
        "outputId": "8f83c84c-2d96-4d6f-8891-925d5553d946"
      },
      "execution_count": 7,
      "outputs": [
        {
          "output_type": "display_data",
          "data": {
            "text/plain": [
              "<Figure size 432x288 with 1 Axes>"
            ],
            "image/png": "[encoded data removed]"
          },
          "metadata": {
            "needs_background": "light"
          }
        }
      ]
    },
    {
      "cell_type": "markdown",
      "source": [
        "This graph shows the relationship between sensitivity and specificity for the first threshold. "
      ],
      "metadata": {
        "id": "rCITPmZWzY2d"
      }
    }
  ]
}